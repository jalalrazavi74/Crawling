{
 "cells": [
  {
   "cell_type": "code",
   "execution_count": 1,
   "metadata": {},
   "outputs": [],
   "source": [
    "# add BeautifulSoup for crawl links\n",
    "from bs4 import BeautifulSoup as bs\n",
    "# add requests for request to links\n",
    "import requests\n",
    "# add pandas for save data's in a DataFrame\n",
    "import pandas as pd"
   ]
  },
  {
   "cell_type": "code",
   "execution_count": 2,
   "metadata": {},
   "outputs": [],
   "source": [
    "# find name of laptop by link with this def.\n",
    "def laptop_name(p_content):\n",
    "    laptop_name = p_content.find(\"div\",class_=\"specs_header\").get_text().replace(\"\\xa0\",\" \")\n",
    "    return laptop_name\n",
    "# find id of laptop page by link with this def.\n",
    "def laptop_page_id(link):\n",
    "    page_id = link.replace(\"https://www.notebookcheck.net/\",\"\")\n",
    "    return page_id\n",
    "# find laptop specification by link and add them to a dictionary with this def. (dirty one)\n",
    "def laptop_spec_dict(p_content):\n",
    "    laptop_spec = []\n",
    "    spec_title_list = []\n",
    "    index_list = []\n",
    "    laptop_specx = []\n",
    "    laptop_specy = []\n",
    "    spec_ = []\n",
    "    spec_dict = {}\n",
    "    laptop_spec_unclean = p_content.find(\"div\",class_=\"specs_whole\").get_text(\"&\").replace(\"\\n\",\"\").replace(\"\\xa0-\\xa0\",\"\").replace(\"\\xa0\",\"\").split(\"&\")\n",
    "    laptop_spec_title = p_content.find_all(\"div\",class_=\"specs\")\n",
    "    for i in range(len(laptop_spec_title)):\n",
    "        spec_title_list.append(str(laptop_spec_title[i]).split(\">\",1)[1].replace(\"</div>\",\"\"))\n",
    "    for i in range(len(laptop_spec_unclean)):\n",
    "        if laptop_spec_unclean[i] != '' and laptop_spec_unclean[i] != ' ':\n",
    "            laptop_spec.append(laptop_spec_unclean[i])\n",
    "    for i in range(len(spec_title_list)):\n",
    "        if spec_title_list[i] in laptop_spec_unclean:\n",
    "            index_list.append(laptop_spec.index(spec_title_list[i]))\n",
    "    for i in range(len(index_list)):\n",
    "        try:\n",
    "            y = index_list[i+1]\n",
    "            laptop_specy.append(y)\n",
    "            x = index_list[i]\n",
    "            laptop_specx.append(x)\n",
    "        except:\n",
    "            y = index_list[i]\n",
    "            laptop_specy.append(y)\n",
    "            x = index_list[i]\n",
    "            laptop_specx.append(x)\n",
    "    for i in range(len(laptop_specx)):\n",
    "        spec_.append(laptop_spec[laptop_specx[i]:laptop_specy[i]])\n",
    "    spec_.pop(-1)\n",
    "    for i in range(len(spec_)):\n",
    "        spec_dict [spec_[i][0]] = spec_[i][1:]\n",
    "        return spec_dict"
   ]
  },
  {
   "cell_type": "code",
   "execution_count": 5,
   "metadata": {},
   "outputs": [],
   "source": [
    "# Build DataFrame with \"df_notebookcheck\" name.\n",
    "df_notbookcheck = pd.DataFrame(columns=[\"page_id\",\n",
    "\"laptop_name\",\n",
    "\"laptop_specifications\"])\n",
    "# make a list of your links and add it here.\n",
    "list_of_links = []\n",
    "all_links = open(\"laptop_links.txt\", \"r\")\n",
    "for links in all_links:\n",
    "    list_of_links.append(links.replace(\"\\n\",\"\"))\n",
    "for link in list_of_links:\n",
    "    p_page = requests.get(link)\n",
    "    p_content = bs(p_page.content, \"html.parser\")\n",
    "    name = laptop_name(p_content)\n",
    "    p_id = laptop_page_id(link)\n",
    "    spec_dict = laptop_spec_dict(p_content)\n",
    "    df_notbookcheck = df_notbookcheck.append({\"page_id\":p_id,\n",
    "    \"laptop_name\":name,\"laptop_specifications\":spec_dict},ignore_index=True)\n",
    "df_notbookcheck.to_csv(\"notebookcheck.csv\")"
   ]
  }
 ],
 "metadata": {
  "interpreter": {
   "hash": "db3a1c61c19bd2b2088227857bab23956493dfe14851a41069101803a297ae76"
  },
  "kernelspec": {
   "display_name": "Python 3.9.7 ('base')",
   "language": "python",
   "name": "python3"
  },
  "language_info": {
   "codemirror_mode": {
    "name": "ipython",
    "version": 3
   },
   "file_extension": ".py",
   "mimetype": "text/x-python",
   "name": "python",
   "nbconvert_exporter": "python",
   "pygments_lexer": "ipython3",
   "version": "3.9.7"
  },
  "orig_nbformat": 4
 },
 "nbformat": 4,
 "nbformat_minor": 2
}
